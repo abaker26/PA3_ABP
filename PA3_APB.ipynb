{
 "cells": [
  {
   "cell_type": "markdown",
   "id": "99917d22-8a16-493b-b41d-e26ac61c00e4",
   "metadata": {},
   "source": [
    "# Programming Assignment 3\n",
    "---\n",
    "**Author:** Allie Baker  \n",
    "**Version:** 1.0  \n",
    "**Semester:** Spring 2024 \n",
    "\n",
    "This *notebook* contains my solution(s) to **Programming Assignment 3**"
   ]
  },
  {
   "cell_type": "markdown",
   "id": "e67896a7-f2e7-42de-8419-2ae9d2e6c952",
   "metadata": {},
   "source": [
    "### Problem 1 - Geometry Calculator "
   ]
  },
  {
   "cell_type": "code",
   "execution_count": 9,
   "id": "8ffe568d-cd21-4cfb-a72b-4873d200e589",
   "metadata": {
    "tags": []
   },
   "outputs": [
    {
     "name": "stdout",
     "output_type": "stream",
     "text": [
      "Options: S - Square, TRI - Triangle, C - Circle, R - Rectangle, E - Ellipse, TRAP - Trapezoid, Q - Quit\n"
     ]
    },
    {
     "name": "stdin",
     "output_type": "stream",
     "text": [
      "Enter the shape you want to calculate (S, TRI, C, R, E, TRAP, Q):  a\n"
     ]
    },
    {
     "name": "stdout",
     "output_type": "stream",
     "text": [
      "That is not a valid option\n",
      "Options: S - Square, TRI - Triangle, C - Circle, R - Rectangle, E - Ellipse, TRAP - Trapezoid, Q - Quit\n"
     ]
    },
    {
     "name": "stdin",
     "output_type": "stream",
     "text": [
      "Enter the shape you want to calculate (S, TRI, C, R, E, TRAP, Q):  E\n",
      "Enter the length of the semi-major axis (a):  5\n",
      "Enter the length of the semi-minor axis (b):  5\n"
     ]
    },
    {
     "name": "stdout",
     "output_type": "stream",
     "text": [
      "Area: 78.53981633974483\n",
      "Perimeter: 31.41592653589793\n",
      "Options: S - Square, TRI - Triangle, C - Circle, R - Rectangle, E - Ellipse, TRAP - Trapezoid, Q - Quit\n"
     ]
    },
    {
     "name": "stdin",
     "output_type": "stream",
     "text": [
      "Enter the shape you want to calculate (S, TRI, C, R, E, TRAP, Q):  q\n"
     ]
    }
   ],
   "source": [
    "import math\n",
    "\n",
    "def calculate_square():\n",
    "    side = float(input(\"Enter the length of a side of the square: \"))\n",
    "    area = side ** 2\n",
    "    perimeter = 4 * side\n",
    "    return area, perimeter\n",
    "\n",
    "def calculate_triangle():\n",
    "    base = float(input(\"Enter the base length of the right triangle: \"))\n",
    "    height = float(input(\"Enter the height of the right triangle: \"))\n",
    "    area = 0.5 * base * height\n",
    "    hypotenuse = math.sqrt(base ** 2 + height ** 2)\n",
    "    perimeter = base + height + hypotenuse\n",
    "    return area, perimeter\n",
    "\n",
    "def calculate_circle():\n",
    "    radius = float(input(\"Enter the radius of the circle: \"))\n",
    "    area = math.pi * radius ** 2\n",
    "    perimeter = 2 * math.pi * radius\n",
    "    return area, perimeter\n",
    "\n",
    "def calculate_rectangle():\n",
    "    length = float(input(\"Enter the length of the rectangle: \"))\n",
    "    width = float(input(\"Enter the width of the rectangle: \"))\n",
    "    area = length * width\n",
    "    perimeter = 2 * (length + width)\n",
    "    return area, perimeter\n",
    "\n",
    "def calculate_ellipse():\n",
    "    a = float(input(\"Enter the length of the semi-major axis (a): \"))\n",
    "    b = float(input(\"Enter the length of the semi-minor axis (b): \"))\n",
    "    area = math.pi * a * b\n",
    "    perimeter_approximation = math.pi * (3 * (a + b) - math.sqrt((3 * a + b) * (a + 3 * b)))\n",
    "    return area, perimeter_approximation\n",
    "\n",
    "def calculate_trapezoid():\n",
    "    a = float(input(\"Enter the length of the first parallel side (a): \"))\n",
    "    b = float(input(\"Enter the length of the second parallel side (b): \"))\n",
    "    height = float(input(\"Enter the height of the trapezoid: \"))\n",
    "    area = 0.5 * (a + b) * height\n",
    "    perimeter = a + b + 2 * math.sqrt(((b - a) / 2) ** 2 + height ** 2)\n",
    "    return area, perimeter\n",
    "\n",
    "def main():\n",
    "    while True:\n",
    "        print(\"Options: S - Square, TRI - Triangle, C - Circle, R - Rectangle, E - Ellipse, TRAP - Trapezoid, Q - Quit\")\n",
    "        option = input(\"Enter the shape you want to calculate (S, TRI, C, R, E, TRAP, Q): \").upper()\n",
    "        \n",
    "        if option == 'Q':\n",
    "            break\n",
    "        elif option == 'S':\n",
    "            area, perimeter = calculate_square()\n",
    "        elif option == 'TRI':\n",
    "            area, perimeter = calculate_triangle()\n",
    "        elif option == 'C':\n",
    "            area, perimeter = calculate_circle()\n",
    "        elif option == 'R':\n",
    "            area, perimeter = calculate_rectangle()\n",
    "        elif option == 'E':\n",
    "            area, perimeter = calculate_ellipse()\n",
    "        elif option == 'TRAP':\n",
    "            area, perimeter = calculate_trapezoid()\n",
    "        else:\n",
    "            print(\"That is not a valid option\")\n",
    "            continue\n",
    "        \n",
    "        print(f\"Area: {area}\")\n",
    "        print(f\"Perimeter: {perimeter}\")\n",
    "\n",
    "if __name__ == \"__main__\":\n",
    "    main()"
   ]
  },
  {
   "cell_type": "markdown",
   "id": "a9dfe276-41c4-4853-a567-0679332197fb",
   "metadata": {},
   "source": [
    "### Problem 2 - Horse Computations"
   ]
  },
  {
   "cell_type": "code",
   "execution_count": 3,
   "id": "b7db3897-af50-444c-99f7-d86d34a0aaa2",
   "metadata": {},
   "outputs": [
    {
     "name": "stdin",
     "output_type": "stream",
     "text": [
      "Enter the unit you want to convert (H for hands, L for lengths, Q to quit.):  L\n",
      "Enter the number of lengths  10\n"
     ]
    },
    {
     "name": "stdout",
     "output_type": "stream",
     "text": [
      "10.0 lengths is equal to 80.0 feet.\n"
     ]
    },
    {
     "name": "stdin",
     "output_type": "stream",
     "text": [
      "Enter the unit you want to convert (H for hands, L for lengths, Q to quit.) H\n",
      "Enter the number of hands  15\n"
     ]
    },
    {
     "name": "stdout",
     "output_type": "stream",
     "text": [
      "15.0 hands is equal to 5.0 feet.\n"
     ]
    },
    {
     "name": "stdin",
     "output_type": "stream",
     "text": [
      "Enter the unit you want to convert (H for hands, L for lengths, Q to quit.) Q\n"
     ]
    }
   ],
   "source": [
    "def convert_hands(hands):\n",
    "    feet = hands * 4/12\n",
    "    return feet\n",
    "\n",
    "def convert_length(lengths):\n",
    "    feet = lengths * 8 \n",
    "    return feet \n",
    "\n",
    "scale = input(\"Enter the unit you want to convert (H for hands, L for lengths, Q to quit.): \")\n",
    "\n",
    "while scale != 'Q':\n",
    "    if scale == 'H':\n",
    "        hands = float(input(\"Enter the number of hands \"))\n",
    "        feet = convert_hands(hands)\n",
    "        print(f\"{hands} hands is equal to {feet} feet.\")\n",
    "    elif scale == 'L':\n",
    "        lengths = float(input(\"Enter the number of lengths \"))\n",
    "        feet = convert_length(lengths)\n",
    "        print(f\"{lengths} lengths is equal to {feet} feet.\")\n",
    "    else:\n",
    "        print(\"That is not a valid option\")\n",
    "        \n",
    "    scale = input(\"Enter the unit you want to convert (H for hands, L for lengths, Q to quit.)\")"
   ]
  },
  {
   "cell_type": "markdown",
   "id": "bc35d915-645d-49ae-8454-7ec0cbf2c1a2",
   "metadata": {},
   "source": [
    "### Problem 3 - Mean Temperature "
   ]
  },
  {
   "cell_type": "code",
   "execution_count": 7,
   "id": "11d26869-94a9-4f62-8bf9-342563d39feb",
   "metadata": {
    "tags": []
   },
   "outputs": [
    {
     "name": "stdout",
     "output_type": "stream",
     "text": [
      "The mean temperature for the past 7 days is  77.86 degrees F.\n"
     ]
    }
   ],
   "source": [
    "def meanTemp(temperatures):\n",
    "    total = sum(temperatures)\n",
    "    num_days = len(temperatures)\n",
    "    mean = total/num_days \n",
    "    return mean, num_days \n",
    "\n",
    "temps = [85, 73, 76, 83, 74, 72, 82]\n",
    "\n",
    "\n",
    "result = meanTemp(temps)\n",
    "mean_temperature, num_days = result\n",
    "\n",
    "print(f\"The mean temperature for the past {num_days} days is {mean_temperature: .2f} degrees F.\")"
   ]
  },
  {
   "cell_type": "code",
   "execution_count": null,
   "id": "5e438d67-5675-4462-983e-12fd161279b2",
   "metadata": {},
   "outputs": [],
   "source": []
  }
 ],
 "metadata": {
  "kernelspec": {
   "display_name": "Python 3 (ipykernel)",
   "language": "python",
   "name": "python3"
  },
  "language_info": {
   "codemirror_mode": {
    "name": "ipython",
    "version": 3
   },
   "file_extension": ".py",
   "mimetype": "text/x-python",
   "name": "python",
   "nbconvert_exporter": "python",
   "pygments_lexer": "ipython3",
   "version": "3.11.5"
  }
 },
 "nbformat": 4,
 "nbformat_minor": 5
}
